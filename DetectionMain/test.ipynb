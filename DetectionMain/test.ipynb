{
 "cells": [
  {
   "cell_type": "markdown",
   "metadata": {},
   "source": [
    "### Устанавливаем ultralytics"
   ]
  },
  {
   "cell_type": "code",
   "execution_count": null,
   "metadata": {},
   "outputs": [],
   "source": [
    "%pip install ultralytics"
   ]
  },
  {
   "cell_type": "markdown",
   "metadata": {},
   "source": [
    "### Скачиваем тестовые данные из репозитория"
   ]
  },
  {
   "cell_type": "code",
   "execution_count": null,
   "metadata": {},
   "outputs": [],
   "source": [
    "!git clone https://github.com/E-Kozyreva/traffic_sign_detection"
   ]
  },
  {
   "cell_type": "markdown",
   "metadata": {},
   "source": [
    "### Тестируем модельку"
   ]
  },
  {
   "cell_type": "code",
   "execution_count": 1,
   "metadata": {},
   "outputs": [],
   "source": [
    "from ultralytics import YOLO"
   ]
  },
  {
   "cell_type": "code",
   "execution_count": 2,
   "metadata": {},
   "outputs": [],
   "source": [
    "model = YOLO(\"4 epoch.pt\")"
   ]
  },
  {
   "cell_type": "code",
   "execution_count": null,
   "metadata": {},
   "outputs": [],
   "source": [
    "pre = model.predict(\n",
    "    source=\"K:/traffic_sign_detection 2/train_models/traffic_sign_detection/test_data/test1.jpg\", \n",
    "    show=True,                                                  \n",
    "    imgsz=1280,                                                 \n",
    "    hide_labels=True,                                           \n",
    "    save=True,                                                  \n",
    "    name=\"pre_test1\",                                                 \n",
    "    conf=0.1,                                                   \n",
    "    )"
   ]
  },
  {
   "cell_type": "code",
   "execution_count": null,
   "metadata": {},
   "outputs": [],
   "source": [
    "pre = model.predict(\n",
    "    source=\"K:/traffic_sign_detection 2/train_models/traffic_sign_detection/test_data/test2.jpg\", \n",
    "    show=True,                                                  \n",
    "    imgsz=1280,                                                 \n",
    "    hide_labels=True,                                           \n",
    "    save=True,                                                  \n",
    "    name=\"pre_test2\",                                                 \n",
    "    conf=0.1,                                                   \n",
    "    )"
   ]
  },
  {
   "cell_type": "code",
   "execution_count": null,
   "metadata": {},
   "outputs": [],
   "source": [
    "pre = model.predict(\n",
    "    source=\"K:/traffic_sign_detection 2/train_models/traffic_sign_detection/test_data/test3.jpg\", \n",
    "    show=True,                                                  \n",
    "    imgsz=1280,                                                 \n",
    "    hide_labels=True,                                           \n",
    "    save=True,                                                  \n",
    "    name=\"pre_test3\",                                                 \n",
    "    conf=0.1,                                                   \n",
    "    )"
   ]
  }
 ],
 "metadata": {
  "kernelspec": {
   "display_name": "venv",
   "language": "python",
   "name": "python3"
  },
  "language_info": {
   "codemirror_mode": {
    "name": "ipython",
    "version": 3
   },
   "file_extension": ".py",
   "mimetype": "text/x-python",
   "name": "python",
   "nbconvert_exporter": "python",
   "pygments_lexer": "ipython3",
   "version": "3.8.0"
  },
  "orig_nbformat": 4
 },
 "nbformat": 4,
 "nbformat_minor": 2
}
