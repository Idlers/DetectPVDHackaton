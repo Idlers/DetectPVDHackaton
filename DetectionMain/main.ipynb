{
  "cells": [
    {
      "cell_type": "code",
      "execution_count": null,
      "metadata": {
        "id": "LGY29RUOCPX5"
      },
      "outputs": [],
      "source": [
        "%pip install -r /content/JSON2YOLO/requirements.txt"
      ]
    },
    {
      "cell_type": "code",
      "execution_count": null,
      "metadata": {
        "id": "byptWyVWDAtv"
      },
      "outputs": [],
      "source": [
        "%pip install kaggle ipywidgets widgetsnbextension"
      ]
    },
    {
      "cell_type": "markdown",
      "metadata": {
        "id": "se7k99nvDQRb"
      },
      "source": [
        "### Датасет"
      ]
    },
    {
      "cell_type": "code",
      "execution_count": null,
      "metadata": {
        "id": "_XxtsEMcDST7"
      },
      "outputs": [],
      "source": [
        "import os"
      ]
    },
    {
      "cell_type": "code",
      "execution_count": null,
      "metadata": {
        "id": "cwCHdivmDUYD"
      },
      "outputs": [],
      "source": [
        "os.environ['KAGGLE_USERNAME'] = \"xxx\"\n",
        "os.environ['KAGGLE_KEY'] = \"xxx\"\n",
        "!kaggle datasets download -d watchman/rtsd-dataset"
      ]
    },
    {
      "cell_type": "code",
      "execution_count": null,
      "metadata": {
        "id": "iw2xAjWpD9XB"
      },
      "outputs": [],
      "source": [
        "import zipfile"
      ]
    },
    {
      "cell_type": "code",
      "execution_count": null,
      "metadata": {
        "id": "6fF2p499EAJn"
      },
      "outputs": [],
      "source": [
        "archive = zipfile.ZipFile('rtsd-dataset.zip', 'r')\n",
        "archive.extractall('.')"
      ]
    },
    {
      "cell_type": "markdown",
      "metadata": {
        "id": "U4fhFr4cFjBq"
      },
      "source": [
        "### Импорт библиотек"
      ]
    },
    {
      "cell_type": "code",
      "execution_count": null,
      "metadata": {
        "id": "BUfoIPX5FhUa"
      },
      "outputs": [],
      "source": [
        "import pandas as pd\n",
        "from tqdm.notebook import tqdm\n",
        "from shutil import copyfile, move\n",
        "import sys\n",
        "import json\n",
        "from ipywidgets import FloatProgress"
      ]
    },
    {
      "cell_type": "code",
      "execution_count": null,
      "metadata": {
        "id": "rT11x2aXFmxR"
      },
      "outputs": [],
      "source": [
        "from JSON2YOLO.general_json2yolo import convert_coco_json\n",
        "sys.path.append('./JSON2YOLO')\n",
        "\n",
        "test_path = 'test_annotation'\n",
        "train_path = 'train_annotation'\n",
        "\n",
        "os.makedirs(train_path, exist_ok=True)\n",
        "os.makedirs(test_path, exist_ok=True)"
      ]
    },
    {
      "cell_type": "code",
      "execution_count": null,
      "metadata": {
        "id": "nbVLGCA6Hor0"
      },
      "outputs": [],
      "source": [
        "move('train_anno.json', os.path.join(train_path, 'train_anno.json'))\n",
        "move('val_anno.json', os.path.join(test_path, 'val_anno.json'))"
      ]
    },
    {
      "cell_type": "code",
      "execution_count": null,
      "metadata": {
        "id": "eK_--KsbHra6"
      },
      "outputs": [],
      "source": [
        "for folder in ['labels', 'images']:\n",
        "    for path in [test_path, train_path]:\n",
        "        os.makedirs(os.path.join(path, folder), exist_ok=True)"
      ]
    },
    {
      "cell_type": "code",
      "execution_count": null,
      "metadata": {
        "id": "XQeOITCaHuAq"
      },
      "outputs": [],
      "source": [
        "convert_coco_json(train_path)\n",
        "for file in tqdm(os.listdir(os.path.join('new_dir/labels/train_anno'))):\n",
        "    move(os.path.join('new_dir/labels/train_anno', file), os.path.join(train_path, 'labels', file))\n",
        "\n",
        "convert_coco_json('./test_annotation/')\n",
        "for file in tqdm(os.listdir(os.path.join('new_dir/labels/val_anno'))):\n",
        "    move(os.path.join('new_dir/labels/val_anno', file), os.path.join(test_path, 'labels', file))"
      ]
    },
    {
      "cell_type": "markdown",
      "metadata": {
        "id": "5D0ratHBI1Lt"
      },
      "source": [
        "### Добавить изображения к готовой разметке"
      ]
    },
    {
      "cell_type": "code",
      "execution_count": null,
      "metadata": {
        "id": "G1jYFD8zI_7J"
      },
      "outputs": [],
      "source": [
        "test_labels = os.listdir(os.path.join(test_path, 'labels'))\n",
        "train_labels = os.listdir(os.path.join(train_path, 'labels'))\n",
        "\n",
        "test_labels = set(map(lambda x: x.split('.')[0], test_labels))\n",
        "train_labels = set(map(lambda x: x.split('.')[0], train_labels))"
      ]
    },
    {
      "cell_type": "code",
      "execution_count": null,
      "metadata": {
        "id": "BjSb6Q3KJDBt"
      },
      "outputs": [],
      "source": [
        "images = 'rtsd-frames/rtsd-frames'\n",
        "for file in os.listdir(images):\n",
        "    name = file.split('.')[0]\n",
        "    if name in train_labels:\n",
        "        move(os.path.join(images, file), os.path.join(train_path,'images', file))\n",
        "    if name in test_labels:\n",
        "        move(os.path.join(images, file), os.path.join(test_path,'images', file))"
      ]
    },
    {
      "cell_type": "code",
      "execution_count": null,
      "metadata": {
        "id": "9JZM52JPLjWZ"
      },
      "outputs": [],
      "source": [
        "def write_yaml_to_file(py_obj, filename) :\n",
        "    with open(f'{filename}.yaml', 'w+',) as f:\n",
        "        yaml.dump_all(py_obj, f, sort_keys=False)\n",
        "write_yaml_to_file(data, 'trafic_signs')"
      ]
    },
    {
      "cell_type": "markdown",
      "metadata": {
        "id": "D5D34PpSSQ6K"
      },
      "source": [
        "### Обучение"
      ]
    },
    {
      "cell_type": "code",
      "execution_count": null,
      "metadata": {
        "id": "64cVz4FeSQID"
      },
      "outputs": [],
      "source": [
        "from ultralytics import YOLO\n",
        "import torch\n",
        "import gc"
      ]
    },
    {
      "cell_type": "code",
      "execution_count": null,
      "metadata": {
        "id": "MEw3i1VCaljE"
      },
      "outputs": [],
      "source": [
        "gc.collect()\n",
        "torch.cuda.empty_cache()"
      ]
    },
    {
      "cell_type": "code",
      "execution_count": null,
      "metadata": {
        "id": "7dFP4an_SXmC"
      },
      "outputs": [],
      "source": [
        "model = YOLO('yolov8s.pt')\n",
        "\n",
        "results = model.train(\n",
        "   data='/content/trafic_signs.yaml',\n",
        "   imgsz=1280,\n",
        "   epochs=5,\n",
        "   batch=6,\n",
        "   device=0,\n",
        "   name='YOLOv8s'\n",
        ")"
      ]
    }
  ],
  "metadata": {
    "accelerator": "GPU",
    "colab": {
      "gpuType": "T4",
      "provenance": []
    },
    "kernelspec": {
      "display_name": "Python 3",
      "name": "python3"
    },
    "language_info": {
      "name": "python"
    }
  },
  "nbformat": 4,
  "nbformat_minor": 0
}